{
 "cells": [
  {
   "attachments": {},
   "cell_type": "markdown",
   "id": "9dc2f39f",
   "metadata": {},
   "source": [
    "# TP1 Reinforcement Learning : Solving MDP s (Planning)\n",
    "\n",
    "#### JOURDAN Pierre-Eliot M\n",
    "\n",
    "In this notebook, feel free to modify and test different values of the parameters ($\\gamma$, R...)."
   ]
  },
  {
   "cell_type": "code",
   "execution_count": 100,
   "id": "ae37fee5",
   "metadata": {},
   "outputs": [],
   "source": [
    "import numpy as np\n",
    "import matplotlib.pyplot as plt\n",
    "import random\n",
    "#import latex\n"
   ]
  },
  {
   "attachments": {},
   "cell_type": "markdown",
   "id": "0aa4dd8b",
   "metadata": {},
   "source": [
    "## Performance prediction"
   ]
  },
  {
   "attachments": {},
   "cell_type": "markdown",
   "id": "7c67e805",
   "metadata": {},
   "source": [
    "### Question 1 :\n",
    "\n",
    "During all this TP we will consider there are 12 states as follows :\n",
    "\n",
    "| | | | 12 | \n",
    "|:--- |:------:|:------:| -----:|\n",
    "|  6  |   7  |  8  | 11 |\n",
    "|  5  | X |  9  | 10 | \n",
    "|  4  |   3  |  2  |  1 | \n",
    "\n",
    "We assume that when we reach either the states 10 or 11, we are brought (with probability = 1) to a \"final\" absorbing state 12 (that is not written in the exercise instructions). The reward in this state is 0, which does not change the result you obtain with 11 states. This choice was made to simplify the writing of the transition matrices.\n",
    "\n",
    "In this question, we will compute the value function associated with the policy described in the instructions."
   ]
  },
  {
   "cell_type": "code",
   "execution_count": 101,
   "id": "c230968b",
   "metadata": {},
   "outputs": [
    {
     "name": "stdout",
     "output_type": "stream",
     "text": [
      "P = [[0.2 0.7 0.  0.  0.  0.  0.  0.  0.  0.1 0.  0. ]\n",
      " [0.1 0.1 0.1 0.  0.  0.  0.  0.  0.7 0.  0.  0. ]\n",
      " [0.  0.1 0.8 0.1 0.  0.  0.  0.  0.  0.  0.  0. ]\n",
      " [0.  0.  0.1 0.8 0.1 0.  0.  0.  0.  0.  0.  0. ]\n",
      " [0.  0.  0.  0.1 0.8 0.1 0.  0.  0.  0.  0.  0. ]\n",
      " [0.  0.  0.  0.  0.1 0.8 0.1 0.  0.  0.  0.  0. ]\n",
      " [0.  0.  0.  0.  0.  0.7 0.2 0.1 0.  0.  0.  0. ]\n",
      " [0.  0.  0.  0.  0.  0.  0.7 0.1 0.1 0.  0.1 0. ]\n",
      " [0.  0.1 0.  0.  0.  0.  0.  0.1 0.7 0.1 0.  0. ]\n",
      " [0.  0.  0.  0.  0.  0.  0.  0.  0.  0.  0.  1. ]\n",
      " [0.  0.  0.  0.  0.  0.  0.  0.  0.  0.  0.  1. ]\n",
      " [0.  0.  0.  0.  0.  0.  0.  0.  0.  0.  0.  1. ]]\n",
      "Reward vector = [-0.04, -0.04, -0.04, -0.04, -0.04, -0.04, -0.04, -0.04, -0.04, -1, 1, 0]\n",
      "Value function =  [-0.55588703 -0.51718629 -0.44235628 -0.41458882 -0.40303114 -0.3948414\n",
      " -0.38091988 -0.26226912 -0.54094861 -1.          1.          0.        ]\n"
     ]
    }
   ],
   "source": [
    "# Discunting factor :\n",
    "gamma = 0.9\n",
    "\n",
    "# Right-Left-Up-Down matrix :\n",
    "M = np.array([[0.7, 0.1, 0.1, 0.1],\n",
    "              [0.1, 0.7, 0.1, 0.1],\n",
    "              [0.1, 0.1, 0.7, 0.1],\n",
    "              [0.1, 0.1, 0.1, 0.7]])\n",
    "\n",
    "# Construction of the P matrix :\n",
    "\n",
    "P = np.array([[0.2, 0.7, 0, 0, 0, 0, 0, 0, 0, 0.1, 0, 0],\n",
    "              [0.1, 0.1, 0.1, 0, 0, 0, 0, 0, 0.7, 0, 0, 0],\n",
    "              [0, 0.1, 0.8, 0.1, 0, 0, 0, 0, 0, 0, 0, 0],\n",
    "              [0, 0, 0.1, 0.8, 0.1, 0, 0, 0, 0, 0, 0, 0],\n",
    "              [0, 0, 0, 0.1, 0.8, 0.1, 0, 0, 0, 0, 0, 0],\n",
    "              [0, 0, 0, 0, 0.1, 0.8, 0.1, 0, 0, 0, 0, 0],\n",
    "              [0, 0, 0, 0, 0, 0.7, 0.2, 0.1, 0, 0, 0, 0],\n",
    "              [0, 0, 0, 0, 0, 0, 0.7, 0.1, 0.1, 0, 0.1, 0],\n",
    "              [0, 0.1, 0, 0, 0, 0, 0, 0.1, 0.7, 0.1, 0, 0],\n",
    "              [0, 0, 0, 0, 0, 0, 0, 0, 0, 0, 0, 1],\n",
    "              [0, 0, 0, 0, 0, 0, 0, 0, 0, 0, 0, 1],\n",
    "              [0, 0, 0, 0, 0, 0, 0, 0, 0, 0, 0, 1],])\n",
    "print('P =',P)\n",
    "\n",
    "# Construction of the reward vector R :\n",
    "\n",
    "R = [-0.04, -0.04, -0.04, -0.04, -0.04, -0.04, -0.04, -0.04, -0.04, -1, 1, 0]\n",
    "print('Reward vector =',R)\n",
    "\n",
    "# Let's compute the value function associated with the policy under study :\n",
    "\n",
    "V_rand = np.linalg.inv((np.eye((12)) - gamma*P))@R\n",
    "print('Value function = ',V_rand)\n",
    "\n"
   ]
  },
  {
   "attachments": {},
   "cell_type": "markdown",
   "id": "56666180",
   "metadata": {},
   "source": [
    "### Question 2 :\n",
    "\n",
    "In this question, we will evaluate the policy using Iterative Policy Evaluation :\n",
    "\n",
    "$V_{k+1}(s) = r(s,a) + \\gamma \\sum_{s' \\in S} p(s'|s,a) V_k(s')$"
   ]
  },
  {
   "cell_type": "code",
   "execution_count": 102,
   "id": "70b9741c",
   "metadata": {},
   "outputs": [
    {
     "name": "stdout",
     "output_type": "stream",
     "text": [
      "[0. 0. 0. 0. 0. 0. 0. 0. 0. 0. 0. 0.]\n",
      "[-0.55584733 -0.51714129 -0.44229101 -0.41450748 -0.402939   -0.39474442\n",
      " -0.3808243  -0.26218949 -0.54090616 -1.          1.          0.        ]\n"
     ]
    }
   ],
   "source": [
    "delta = 0.0001\n",
    "V_k = np.zeros(12)\n",
    "print(V_k)\n",
    "\n",
    "# Iterative Policy Evaluation :\n",
    "def iterative_policy_eval(V_j,delta_j):\n",
    "    while max(abs(V_rand-V_j)) > delta_j:\n",
    "        V_j = R + gamma*P@V_j\n",
    "    return V_j\n",
    "\n",
    "print(iterative_policy_eval(V_k,delta))"
   ]
  },
  {
   "attachments": {},
   "cell_type": "markdown",
   "id": "db8f0149",
   "metadata": {},
   "source": [
    "### Question 3 :\n",
    "\n",
    "In this question, we will verify the Bellman operator is a contraction. We will take two initial vectors with random values and compute the max of their differences while applying the Iterative Policy Evaluation on both of them."
   ]
  },
  {
   "cell_type": "code",
   "execution_count": 103,
   "id": "cfa11bfc",
   "metadata": {},
   "outputs": [
    {
     "data": {
      "text/plain": [
       "Text(0.5, 1.0, 'Evolution of abs(max($V_1-V_2$))')"
      ]
     },
     "execution_count": 103,
     "metadata": {},
     "output_type": "execute_result"
    },
    {
     "data": {
      "image/png": "[encoded data removed]",
      "text/plain": [
       "<Figure size 432x288 with 1 Axes>"
      ]
     },
     "metadata": {
      "needs_background": "light"
     },
     "output_type": "display_data"
    }
   ],
   "source": [
    "# vectors initialization :\n",
    "V1 = V0 = np.random.rand(12)\n",
    "V2 = V0 = np.random.rand(12)\n",
    "max_list = [max(V1-V2)]\n",
    "\n",
    "c=0\n",
    "while max(abs(V_rand-V1)) > delta:\n",
    "        V1 = R + gamma*P@V1\n",
    "        V2 = R + gamma*P@V2\n",
    "        max_list.append(max(V1-V2))\n",
    "        c = c+1\n",
    "\n",
    "# plot evolution of the difference between the 2 vectors :\n",
    "plt.figure()\n",
    "plt.plot(range(c+1),max_list)\n",
    "plt.xlabel('iterations')\n",
    "plt.title('Evolution of abs(max($V_1-V_2$))')\n",
    "\n"
   ]
  },
  {
   "attachments": {},
   "cell_type": "markdown",
   "id": "a5afbe69",
   "metadata": {},
   "source": [
    "We realize the quantity converges towards zero. This illustrates the fact that, whatever initial vector we take, the Iterative Policy Evaluation will converge towards the same final value $V_{\\pi}$ (expected value). Thus, the Bellman operator is a $\\gamma$-contraction."
   ]
  },
  {
   "attachments": {},
   "cell_type": "markdown",
   "id": "2838bd47",
   "metadata": {},
   "source": [
    "## Optimization"
   ]
  },
  {
   "attachments": {},
   "cell_type": "markdown",
   "id": "88e348b8",
   "metadata": {},
   "source": [
    "### Question 1 :\n",
    "\n",
    "The Bellman equation that characterizes the optimal policy can be written as followed :\n",
    "\n",
    "$\\pi^*(s) \\in$ argmax $_{a \\in A} [r(s,a) + \\gamma \\sum_{s' \\in S} p(s'|s,a) V_*(s')]$\n",
    "\n",
    "We also have : $V_*(s) =$ max $_{a \\in A} [r(s,a) + \\gamma \\sum_{s' \\in S} p(s'|s,a) V_*(s')]$"
   ]
  },
  {
   "attachments": {},
   "cell_type": "markdown",
   "id": "7d4809e2",
   "metadata": {},
   "source": [
    "### Question 2 :\n",
    "Let's solve numerically the optimal value function by Value Iteration Algorithm. To do this we will write down the transition matrices for the 4 possible directions (Left, Right, Up, Down). At every iteration we compute the value with each of the 4 matrices and keep the maximum value, giving us the corresponding direction."
   ]
  },
  {
   "cell_type": "code",
   "execution_count": 104,
   "id": "91b3f88d",
   "metadata": {},
   "outputs": [
    {
     "name": "stdout",
     "output_type": "stream",
     "text": [
      "Optimal value : [-1.31206263e+00 -2.15701688e-01  2.72061655e-02  1.29717197e-01\n",
      "  2.28443132e-01  3.42299122e-01  4.76388929e-01  6.34653376e-01\n",
      " -6.14923973e-01 -9.99999627e+00  1.00000373e+00  3.73470303e-06]\n",
      "directions : left(1), right(2), up(3), down(4)\n",
      "Optimal policy : [1 1 1 3 3 2 2 2 3 1 1 1]\n"
     ]
    }
   ],
   "source": [
    "\n",
    "P_left = np.array([ [0.2, 0.7, 0, 0, 0, 0, 0, 0, 0, 0.1, 0, 0],\n",
    "                    [0.1, 0.1, 0.7, 0, 0, 0, 0, 0, 0.1, 0, 0, 0],\n",
    "                    [0, 0.1, 0.2, 0.7, 0, 0, 0, 0, 0, 0, 0, 0],\n",
    "                    [0, 0, 0.1, 0.8, 0.1, 0, 0, 0, 0, 0, 0, 0],\n",
    "                    [0, 0, 0, 0.1, 0.8, 0.1, 0, 0, 0, 0, 0, 0],\n",
    "                    [0, 0, 0, 0, 0.1, 0.8, 0.1, 0, 0, 0, 0, 0],\n",
    "                    [0, 0, 0, 0, 0, 0.7, 0.2, 0.1, 0, 0, 0, 0],\n",
    "                    [0, 0, 0, 0, 0, 0, 0.7, 0.1, 0.1, 0, 0.1, 0],\n",
    "                    [0, 0.1, 0, 0, 0, 0, 0, 0.1, 0.7, 0.1, 0, 0],\n",
    "                    [0, 0, 0, 0, 0, 0, 0, 0, 0, 0, 0, 1],\n",
    "                    [0, 0, 0, 0, 0, 0, 0, 0, 0, 0, 0, 1],\n",
    "                    [0, 0, 0, 0, 0, 0, 0, 0, 0, 0, 0, 1],])\n",
    "\n",
    "\n",
    "P_right = np.array([[0.8, 0.1, 0, 0, 0, 0, 0, 0, 0, 0.1, 0, 0],\n",
    "                    [0.7, 0.1, 0.1, 0, 0, 0, 0, 0, 0.1, 0, 0, 0],\n",
    "                    [0, 0.7, 0.2, 0.1, 0, 0, 0, 0, 0, 0, 0, 0],\n",
    "                    [0, 0, 0.7, 0.2, 0.1, 0, 0, 0, 0, 0, 0, 0],\n",
    "                    [0, 0, 0, 0.1, 0.8, 0.1, 0, 0, 0, 0, 0, 0],\n",
    "                    [0, 0, 0, 0, 0.1, 0.2, 0.7, 0, 0, 0, 0, 0],\n",
    "                    [0, 0, 0, 0, 0, 0.1, 0.2, 0.7, 0, 0, 0, 0],\n",
    "                    [0, 0, 0, 0, 0, 0, 0.1, 0.1, 0.1, 0, 0.7, 0],\n",
    "                    [0, 0.1, 0, 0, 0, 0, 0, 0.1, 0.1, 0.7, 0, 0],\n",
    "                    [0, 0, 0, 0, 0, 0, 0, 0, 0, 0, 0, 1],\n",
    "                    [0, 0, 0, 0, 0, 0, 0, 0, 0, 0, 0, 1],\n",
    "                    [0, 0, 0, 0, 0, 0, 0, 0, 0, 0, 0, 1],])\n",
    "\n",
    "\n",
    "P_up = np.array([   [0.2, 0.1, 0, 0, 0, 0, 0, 0, 0, 0.7, 0, 0],\n",
    "                    [0.1, 0.1, 0.1, 0, 0, 0, 0, 0, 0.7, 0, 0, 0],\n",
    "                    [0, 0.1, 0.8, 0.1, 0, 0, 0, 0, 0, 0, 0, 0],\n",
    "                    [0, 0, 0.1, 0.2, 0.7, 0, 0, 0, 0, 0, 0, 0],\n",
    "                    [0, 0, 0, 0.1, 0.2, 0.7, 0, 0, 0, 0, 0, 0],\n",
    "                    [0, 0, 0, 0, 0.1, 0.8, 0.1, 0, 0, 0, 0, 0],\n",
    "                    [0, 0, 0, 0, 0, 0.1, 0.8, 0.1, 0, 0, 0, 0],\n",
    "                    [0, 0, 0, 0, 0, 0, 0.1, 0.7, 0.1, 0, 0.1, 0],\n",
    "                    [0, 0.1, 0, 0, 0, 0, 0, 0.7, 0.1, 0.1, 0, 0],\n",
    "                    [0, 0, 0, 0, 0, 0, 0, 0, 0, 0, 0, 1],\n",
    "                    [0, 0, 0, 0, 0, 0, 0, 0, 0, 0, 0, 1],\n",
    "                    [0, 0, 0, 0, 0, 0, 0, 0, 0, 0, 0, 1],])\n",
    "\n",
    "\n",
    "P_down = np.array([ [0.8, 0.1, 0, 0, 0, 0, 0, 0, 0, 0.1, 0, 0],\n",
    "                    [0.1, 0.7, 0.1, 0, 0, 0, 0, 0, 0.1, 0, 0, 0],\n",
    "                    [0, 0.1, 0.8, 0.1, 0, 0, 0, 0, 0, 0, 0, 0],\n",
    "                    [0, 0, 0.1, 0.8, 0.1, 0, 0, 0, 0, 0, 0, 0],\n",
    "                    [0, 0, 0, 0.7, 0.2, 0.1, 0, 0, 0, 0, 0, 0],\n",
    "                    [0, 0, 0, 0, 0.7, 0.2, 0.1, 0, 0, 0, 0, 0],\n",
    "                    [0, 0, 0, 0, 0, 0.1, 0.8, 0.1, 0, 0, 0, 0],\n",
    "                    [0, 0, 0, 0, 0, 0, 0.1, 0.1, 0.7, 0, 0.1, 0],\n",
    "                    [0, 0.7, 0, 0, 0, 0, 0, 0.1, 0.1, 0.1, 0, 0],\n",
    "                    [0, 0, 0, 0, 0, 0, 0, 0, 0, 0, 0, 1],\n",
    "                    [0, 0, 0, 0, 0, 0, 0, 0, 0, 0, 0, 1],\n",
    "                    [0, 0, 0, 0, 0, 0, 0, 0, 0, 0, 0, 1],])\n",
    "\n",
    "# let's modify the reward function by setting the value -10 for the state 10 (instead of -1):\n",
    "R = [-0.04, -0.04, -0.04, -0.04, -0.04, -0.04, -0.04, -0.04, -0.04, -10, 1, 0]\n",
    "\n",
    "\n",
    "V0 = np.random.rand(12)\n",
    "policy =[]\n",
    "for i in range(100):\n",
    "    V_left = R + gamma*P_left@V0\n",
    "    V_right = R + gamma*P_right@V0\n",
    "    V_up = R + gamma*P_up@V0\n",
    "    V_down = R + gamma*P_down@V0\n",
    "    val = [V_left, V_right, V_up, V_down]\n",
    "    V0 = np.max(val,axis=0)\n",
    "    policy = np.argmax(val,axis=0)\n",
    "print('Optimal value :',V0)\n",
    "\n",
    "# We can print the optimal policy :\n",
    "policy_opt = policy\n",
    "print('directions : left(1), right(2), up(3), down(4)')\n",
    "print('Optimal policy :', policy_opt+1)\n",
    "V_opt = V0\n"
   ]
  },
  {
   "attachments": {},
   "cell_type": "markdown",
   "id": "9b43ccd3",
   "metadata": {},
   "source": [
    "We noticed that with reward -1 at state 10, we could not obtain the optimal policy (by comparing it with the directions in the instructions of the TP). However, by decreasing the reward (down to -10) we could get the wanted optimal policy."
   ]
  },
  {
   "attachments": {},
   "cell_type": "markdown",
   "id": "2a99d165",
   "metadata": {},
   "source": [
    "### Question 3 :\n",
    "\n",
    "In this question, we want to build the 2D transition matrix representing the optimal policy. As said previously, we can infer the optimal action in every state from the optimal value function by selecting the direction associated with the maximum value function (see previous question).\n",
    "\n",
    "In the same time, we show in the following code that the solution we obtained in question 2 verifies the Bellman equation (comparing the theoretical / experimental value functions).\n"
   ]
  },
  {
   "cell_type": "code",
   "execution_count": 105,
   "id": "fbb18b9a",
   "metadata": {},
   "outputs": [
    {
     "name": "stdout",
     "output_type": "stream",
     "text": [
      "[[0.2 0.7 0.  0.  0.  0.  0.  0.  0.  0.1 0.  0. ]\n",
      " [0.1 0.1 0.7 0.  0.  0.  0.  0.  0.1 0.  0.  0. ]\n",
      " [0.  0.1 0.2 0.7 0.  0.  0.  0.  0.  0.  0.  0. ]\n",
      " [0.  0.  0.1 0.2 0.7 0.  0.  0.  0.  0.  0.  0. ]\n",
      " [0.  0.  0.  0.1 0.2 0.7 0.  0.  0.  0.  0.  0. ]\n",
      " [0.  0.  0.  0.  0.1 0.2 0.7 0.  0.  0.  0.  0. ]\n",
      " [0.  0.  0.  0.  0.  0.1 0.2 0.7 0.  0.  0.  0. ]\n",
      " [0.  0.  0.  0.  0.  0.  0.1 0.1 0.1 0.  0.7 0. ]\n",
      " [0.  0.1 0.  0.  0.  0.  0.  0.7 0.1 0.1 0.  0. ]\n",
      " [0.  0.  0.  0.  0.  0.  0.  0.  0.  0.  0.  1. ]\n",
      " [0.  0.  0.  0.  0.  0.  0.  0.  0.  0.  0.  1. ]\n",
      " [0.  0.  0.  0.  0.  0.  0.  0.  0.  0.  0.  1. ]]\n",
      "[3.73470303e-06 3.73470303e-06 3.73470303e-06 3.73470303e-06\n",
      " 3.73470303e-06 3.73470303e-06 3.73470303e-06 3.73470303e-06\n",
      " 3.73470303e-06 3.73470303e-06 3.73470303e-06 3.73470303e-06]\n"
     ]
    }
   ],
   "source": [
    "\n",
    "# let's build the P' matrix associated with the optimal policy :\n",
    "\n",
    "def build_P(policy_list):\n",
    "    P = np.zeros((12,12))\n",
    "    for i in range(len(policy_list)):\n",
    "        if policy_list[i] == 0:\n",
    "            P[i,:] = P_left[i,:]\n",
    "        elif policy_list[i] == 1:\n",
    "            P[i,:] = P_right[i,:]\n",
    "        elif policy_list[i] == 2:\n",
    "            P[i,:] = P_up[i,:]\n",
    "        else:\n",
    "            P[i,:] = P_down[i,:]\n",
    "    return P\n",
    "\n",
    "P_opt = build_P(policy_opt)\n",
    "print(P_opt)\n",
    "\n",
    "# solves Bellman equation :\n",
    "V_test = np.linalg.inv(np.eye(12) - gamma*P_opt)@R\n",
    "print(V_opt - V_test)\n",
    "\n"
   ]
  },
  {
   "attachments": {},
   "cell_type": "markdown",
   "id": "cf916485",
   "metadata": {},
   "source": [
    "### Question 4 :\n",
    "\n",
    "Let's now compare the performances obtained with the random policy and the optimal one. Now that we have the transition matrices for boh cases, we can apply the Iterative Policy Evaluation and compare the convergence of the solution."
   ]
  },
  {
   "cell_type": "code",
   "execution_count": 106,
   "id": "8825ea04",
   "metadata": {},
   "outputs": [
    {
     "name": "stdout",
     "output_type": "stream",
     "text": [
      "[2.01582369e+00 2.62376940e+00 1.31606880e+00 8.55596542e-01\n",
      " 7.53427346e-01 8.05259552e-01 9.47281608e-01 1.23984144e+00\n",
      " 2.76350663e+00 3.73470303e-06 3.73470303e-06 3.73470303e-06]\n"
     ]
    },
    {
     "data": {
      "text/plain": [
       "Text(0.5, 1.0, 'Convergence comparison')"
      ]
     },
     "execution_count": 106,
     "metadata": {},
     "output_type": "execute_result"
    },
    {
     "data": {
      "image/png": "[encoded data removed]",
      "text/plain": [
       "<Figure size 432x288 with 1 Axes>"
      ]
     },
     "metadata": {
      "needs_background": "light"
     },
     "output_type": "display_data"
    }
   ],
   "source": [
    "# Values obtained with random and optimal policies (previously computed) :\n",
    "V_rand = np.linalg.inv((np.eye((12)) - gamma*P))@R\n",
    "V_opt = V0\n",
    "\n",
    "# Let's apply Iterative Policy Evaluation :\n",
    "V_rand2 = np.random.rand(12)\n",
    "V_opt2 = np.random.rand(12)\n",
    "e_rand = [max(abs(V_rand-V_rand2))]\n",
    "e_opt = [max(abs(V_opt-V_opt2))]\n",
    "\n",
    "for i in range(50):\n",
    "    V_rand2 = R + gamma*P@V_rand2\n",
    "    V_opt2 = R + gamma*P_opt@V_opt2\n",
    "    e_rand.append(max(abs(V_rand-V_rand2)))\n",
    "    e_opt.append(max(abs(V_opt-V_opt2)))\n",
    "\n",
    "print(V_opt-V_rand)\n",
    "\n",
    "plt.figure()\n",
    "plt.plot(range(51),e_rand,label='Random')\n",
    "plt.plot(range(51),e_opt,label='Optimal')\n",
    "plt.legend()\n",
    "plt.title('Convergence comparison')\n",
    "\n"
   ]
  },
  {
   "attachments": {},
   "cell_type": "markdown",
   "id": "d4f51948",
   "metadata": {},
   "source": [
    "We notice on the figure we have a faster convergence with the optimal policy. We also remark, by comparing the difference of the 2 vectors, that the optimal value function is (slightly) superior to the random one. Therefore, we can say the optimal policy performs better."
   ]
  },
  {
   "attachments": {},
   "cell_type": "markdown",
   "id": "236454e0",
   "metadata": {},
   "source": [
    "### Question 5 :\n",
    "\n",
    "The goal of this question is to to calculate the optimal policy using Policy Iteration. We will start ($\\pi_0$) with the random policy of part 1 (\"Performance prediction\" section). We will carry out one improvement step of the Policy iteration and represent the obtained policy $\\pi_1$ in a 2D matrix."
   ]
  },
  {
   "cell_type": "code",
   "execution_count": 107,
   "id": "bb0ed5e2",
   "metadata": {},
   "outputs": [
    {
     "name": "stdout",
     "output_type": "stream",
     "text": [
      "Policy step 1 : [1 1 1 3 3 1 1 2 3 1 1 1]\n",
      "[[0.2 0.7 0.  0.  0.  0.  0.  0.  0.  0.1 0.  0. ]\n",
      " [0.1 0.1 0.7 0.  0.  0.  0.  0.  0.1 0.  0.  0. ]\n",
      " [0.  0.1 0.2 0.7 0.  0.  0.  0.  0.  0.  0.  0. ]\n",
      " [0.  0.  0.1 0.2 0.7 0.  0.  0.  0.  0.  0.  0. ]\n",
      " [0.  0.  0.  0.1 0.2 0.7 0.  0.  0.  0.  0.  0. ]\n",
      " [0.  0.  0.  0.  0.1 0.8 0.1 0.  0.  0.  0.  0. ]\n",
      " [0.  0.  0.  0.  0.  0.7 0.2 0.1 0.  0.  0.  0. ]\n",
      " [0.  0.  0.  0.  0.  0.  0.1 0.1 0.1 0.  0.7 0. ]\n",
      " [0.  0.1 0.  0.  0.  0.  0.  0.7 0.1 0.1 0.  0. ]\n",
      " [0.  0.  0.  0.  0.  0.  0.  0.  0.  0.  0.  1. ]\n",
      " [0.  0.  0.  0.  0.  0.  0.  0.  0.  0.  0.  1. ]\n",
      " [0.  0.  0.  0.  0.  0.  0.  0.  0.  0.  0.  1. ]]\n",
      "Distance between pi_1 and pi* = 1.2\n",
      "Distance between pi_0 and pi* = 2.4\n"
     ]
    }
   ],
   "source": [
    "# One step of the algorithm :\n",
    "# pi_0\n",
    "V0 = np.linalg.inv((np.eye((12)) - gamma*P))@R\n",
    "\n",
    "# greedy (pi_1):\n",
    "\n",
    "policy_step1 =[]\n",
    "V_left = R + gamma*P_left@V0\n",
    "V_right = R + gamma*P_right@V0\n",
    "V_up = R + gamma*P_up@V0\n",
    "V_down = R + gamma*P_down@V0\n",
    "val = [V_left, V_right, V_up, V_down]\n",
    "V0 = np.max(val,axis=0)\n",
    "policy_step1 = np.argmax(val,axis=0)\n",
    "print('Policy step 1 :',policy_step1+1)\n",
    "\n",
    "P_step1 = build_P(policy_step1)\n",
    "print(P_step1)\n",
    "\n",
    "# print('Value with random : ',np.linalg.inv((np.eye((12)) - gamma*P))@R)\n",
    "# print('Value with one step Policy Iteration : ',np.linalg.inv((np.eye((12)) - gamma*P_step1))@R)\n",
    "\n",
    "print('Distance between pi_1 and pi* =', np.linalg.norm(P_step1 - P_opt))\n",
    "print('Distance between pi_0 and pi* =', np.linalg.norm(P - P_opt))"
   ]
  },
  {
   "attachments": {},
   "cell_type": "markdown",
   "id": "730141b4",
   "metadata": {},
   "source": [
    "We can compare the value function obtained with random policy and after one step of Policy iteration (see code above). \n",
    "\n",
    "We compute the quantities : $||\\pi_1-\\pi^*||$ and $||\\pi_0-\\pi^*||$  and we get : $||\\pi_1-\\pi^*||$ < $||\\pi_0-\\pi^*||$ which means we get a better policy after one iteration."
   ]
  },
  {
   "attachments": {},
   "cell_type": "markdown",
   "id": "5365cd59",
   "metadata": {},
   "source": [
    "### Question 6 :\n",
    "\n",
    "Let's continue iterating the Prediction and the greedy steps until convergence to the optimal policy. We will plot the evolution of $||\\pi_{k+1}-\\pi^*||$ for every iteration which will give us the number of iterations before convergence (the algorithm stops when $||\\pi_{k+1}-\\pi^*|| = 0$)."
   ]
  },
  {
   "cell_type": "code",
   "execution_count": 108,
   "id": "94a4456e",
   "metadata": {},
   "outputs": [
    {
     "data": {
      "text/plain": [
       "Text(0.5, 0, 'iterations')"
      ]
     },
     "execution_count": 108,
     "metadata": {},
     "output_type": "execute_result"
    },
    {
     "data": {
      "image/png": "[encoded data removed]",
      "text/plain": [
       "<Figure size 432x288 with 1 Axes>"
      ]
     },
     "metadata": {
      "needs_background": "light"
     },
     "output_type": "display_data"
    }
   ],
   "source": [
    "# Policy Iteration algorithm :\n",
    "\n",
    "V0 = np.linalg.inv((np.eye((12)) - gamma*P))@R\n",
    "next_policy =np.zeros(12)\n",
    "cvg = [abs(max(V_opt-V0))]\n",
    "P_prev = P\n",
    "c=0\n",
    "dist = 10\n",
    "\n",
    "while dist > 0.5 :\n",
    "    V_left = R + gamma*P_left@V0\n",
    "    V_right = R + gamma*P_right@V0\n",
    "    V_up = R + gamma*P_up@V0\n",
    "    V_down = R + gamma*P_down@V0\n",
    "    val = [V_left, V_right, V_up, V_down]\n",
    "    dist = max(abs(next_policy - np.argmax(val,axis=0)))\n",
    "    next_policy = np.argmax(val,axis=0)\n",
    "\n",
    "    P_next = build_P(next_policy)\n",
    "    V0 = np.linalg.inv((np.eye((12)) - gamma*P_next))@R\n",
    "    cvg.append(np.linalg.norm(P_prev - P_next))\n",
    "    P_prev = P_next\n",
    "    c = c+1\n",
    "\n",
    "plt.figure()\n",
    "plt.plot(range(c+1),cvg)\n",
    "plt.title('Policy iteration convergence')\n",
    "plt.xlabel('iterations')\n",
    "\n",
    "    "
   ]
  },
  {
   "attachments": {},
   "cell_type": "markdown",
   "id": "326141cf",
   "metadata": {},
   "source": [
    "### Question 7 :\n",
    "\n",
    "In this question, we will aply the Policy iteration algorithm, but this time $\\gamma$ will take a certain range of values. We will both plot the structure of the optimal policy and the number of iterations before convergence for every value of $\\gamma$."
   ]
  },
  {
   "cell_type": "code",
   "execution_count": 109,
   "id": "03848f13",
   "metadata": {},
   "outputs": [
    {
     "name": "stdout",
     "output_type": "stream",
     "text": [
      "gamma = [0.1, 0.2, 0.3, 0.4, 0.5, 0.6, 0.7, 0.8, 0.9]\n",
      "directions : left(1), right(2), up(3), down(4)\n",
      "[[1. 1. 1. 3. 3. 2. 2. 2. 3. 1. 1. 1.]\n",
      " [1. 1. 1. 3. 3. 2. 2. 2. 3. 1. 1. 1.]\n",
      " [1. 1. 1. 3. 3. 2. 2. 2. 3. 1. 1. 1.]\n",
      " [1. 1. 1. 3. 3. 2. 2. 2. 3. 1. 1. 1.]\n",
      " [1. 1. 1. 3. 3. 2. 2. 2. 3. 1. 1. 1.]\n",
      " [1. 1. 1. 3. 3. 2. 2. 2. 3. 1. 1. 1.]\n",
      " [1. 1. 1. 3. 3. 2. 2. 2. 3. 1. 1. 1.]\n",
      " [1. 1. 1. 3. 3. 2. 2. 2. 3. 1. 1. 1.]]\n"
     ]
    },
    {
     "data": {
      "text/plain": [
       "Text(0.5, 0, '$\\\\gamma$')"
      ]
     },
     "execution_count": 109,
     "metadata": {},
     "output_type": "execute_result"
    },
    {
     "data": {
      "image/png": "[encoded data removed]",
      "text/plain": [
       "<Figure size 432x288 with 1 Axes>"
      ]
     },
     "metadata": {
      "needs_background": "light"
     },
     "output_type": "display_data"
    },
    {
     "data": {
      "image/png": "[encoded data removed]",
      "text/plain": [
       "<Figure size 432x288 with 1 Axes>"
      ]
     },
     "metadata": {
      "needs_background": "light"
     },
     "output_type": "display_data"
    }
   ],
   "source": [
    "# range of values for gamma :\n",
    "gamma_list = [i/10 for i in range(1,10)]\n",
    "print('gamma =',gamma_list)\n",
    "results = np.zeros(12)\n",
    "c_list = []\n",
    "\n",
    "for i in range(len(gamma_list)):\n",
    "    V0 = np.linalg.inv((np.eye((12)) - gamma_list[i]*P))@R\n",
    "    next_policy = np.random.rand(12)\n",
    "    dist = 10\n",
    "    c=0\n",
    "\n",
    "    while dist > 0.5 :\n",
    "        V_left = R + gamma_list[i]*P_left@V0\n",
    "        V_right = R + gamma_list[i]*P_right@V0\n",
    "        V_up = R + gamma_list[i]*P_up@V0\n",
    "        V_down = R + gamma_list[i]*P_down@V0\n",
    "        val = [V_left, V_right, V_up, V_down]\n",
    "        #V0 = np.max(val,axis=0)\n",
    "        dist = max(abs(next_policy - np.argmax(val,axis=0)))\n",
    "        next_policy = np.argmax(val,axis=0)\n",
    "        P_next = build_P(next_policy)\n",
    "        V0 = np.linalg.inv((np.eye((12)) - gamma*P_next))@R\n",
    "        c = c+1\n",
    "    \n",
    "    # optimal policy :\n",
    "    results = np.block([[results],[next_policy+1]])\n",
    "    c_list.append(c)\n",
    "\n",
    "# we print thestructure of the optimal policy obtained for every value of gamma :\n",
    "print('directions : left(1), right(2), up(3), down(4)')\n",
    "print(results[1:len(gamma_list),:])\n",
    "\n",
    "# plot of the structure of optimal policy :\n",
    "plt.figure()\n",
    "for i in range(1,len(gamma_list)):\n",
    "    j = gamma_list[i]\n",
    "    plt.plot(range(12),results[i,:],label='$\\gamma$ = {j}'.format(j=j))\n",
    "plt.legend()\n",
    "plt.title('Structure of the optimal policy')\n",
    "plt.xlabel('States s')\n",
    "plt.ylabel('Directions 1-2-3-4')\n",
    "\n",
    "# Number of iterations as a function of gamma\n",
    "plt.figure()\n",
    "plt.plot(range(len(gamma_list)),c_list)\n",
    "plt.title('Evolution of the number of iterations as a function of gamma')\n",
    "plt.xlabel('$\\gamma$')\n",
    "\n"
   ]
  },
  {
   "attachments": {},
   "cell_type": "markdown",
   "id": "22df2293",
   "metadata": {},
   "source": [
    "We notice the structure of the optimal policy is the same whatever value of $\\gamma$ we take. We also notice there is convergence of the optimal policy generally under 5 iterations. Yet, for some combination of hyperparameters, we notice there is no convergence at all."
   ]
  }
 ],
 "metadata": {
  "interpreter": {
   "hash": "755bca588c5ad61560da42c0cec298747f8b74f9b58b010e18f102b95c79ceda"
  },
  "kernelspec": {
   "display_name": "Python 3.10.5 64-bit",
   "language": "python",
   "name": "python3"
  },
  "language_info": {
   "codemirror_mode": {
    "name": "ipython",
    "version": 3
   },
   "file_extension": ".py",
   "mimetype": "text/x-python",
   "name": "python",
   "nbconvert_exporter": "python",
   "pygments_lexer": "ipython3",
   "version": "3.10.5"
  }
 },
 "nbformat": 4,
 "nbformat_minor": 5
}
